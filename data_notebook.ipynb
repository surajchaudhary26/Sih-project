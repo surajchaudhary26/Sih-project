{
 "cells": [
  {
   "cell_type": "code",
   "execution_count": 2,
   "id": "7d36f9a2",
   "metadata": {},
   "outputs": [
    {
     "data": {
      "text/plain": [
       "Index(['Job_ID', 'Job_Title', 'Job_Type', 'Company_Name', 'Sector',\n",
       "       'Posted_Date', 'Location', 'Cities', 'States', 'Skills_Required',\n",
       "       'Qualification_Required', 'Experience_Required', 'Stipend', 'Duration',\n",
       "       'Number_of_Openings', 'Actively_Hiring', 'Description', 'Links',\n",
       "       'Diversity_Preferences', 'Past_Participation', 'Tags'],\n",
       "      dtype='object')"
      ]
     },
     "execution_count": 2,
     "metadata": {},
     "output_type": "execute_result"
    }
   ],
   "source": [
    "import pandas as pd\n",
    "# Internship / Job DataFrame Schema\n",
    "internship_schema = {\n",
    "    'Job_ID': str,\n",
    "    'Job_Title': str,\n",
    "    'Job_Type': str,\n",
    "    'Company_Name': str,\n",
    "    'Sector': str,\n",
    "    'Posted_Date': 'datetime64[ns]',\n",
    "    'Location': str,\n",
    "    'Cities': object,               # List of cities\n",
    "    'States': object,               # List of states\n",
    "    'Skills_Required': object,      # List of skills\n",
    "    'Qualification_Required': object,  # List of qualifications\n",
    "    'Experience_Required': str,\n",
    "    'Stipend': float,\n",
    "    'Duration': str,\n",
    "    'Number_of_Openings': int,\n",
    "    'Actively_Hiring': bool,\n",
    "    'Description': str,\n",
    "    'Links': str,\n",
    "    'Diversity_Preferences': object, # List of categories\n",
    "    'Past_Participation': bool,\n",
    "    'Tags': object                  # List of tags for ranking\n",
    "}\n",
    "\n",
    "internships_df = pd.DataFrame({col: pd.Series(dtype=dt) for col, dt in internship_schema.items()})\n",
    "internships_df.head()\n",
    "internships_df.columns"
   ]
  },
  {
   "cell_type": "code",
   "execution_count": 3,
   "id": "ba5c6d1c",
   "metadata": {},
   "outputs": [
    {
     "data": {
      "text/html": [
       "<div>\n",
       "<style scoped>\n",
       "    .dataframe tbody tr th:only-of-type {\n",
       "        vertical-align: middle;\n",
       "    }\n",
       "\n",
       "    .dataframe tbody tr th {\n",
       "        vertical-align: top;\n",
       "    }\n",
       "\n",
       "    .dataframe thead th {\n",
       "        text-align: right;\n",
       "    }\n",
       "</style>\n",
       "<table border=\"1\" class=\"dataframe\">\n",
       "  <thead>\n",
       "    <tr style=\"text-align: right;\">\n",
       "      <th></th>\n",
       "      <th>Student_ID</th>\n",
       "      <th>Name</th>\n",
       "      <th>Email</th>\n",
       "      <th>Phone</th>\n",
       "      <th>Skills</th>\n",
       "      <th>Qualification</th>\n",
       "      <th>Location_Preferences</th>\n",
       "      <th>Sector_Interests</th>\n",
       "      <th>Social_Category</th>\n",
       "      <th>Past_Internship_Participation</th>\n",
       "      <th>Preferred_Job_Type</th>\n",
       "      <th>Experience</th>\n",
       "    </tr>\n",
       "  </thead>\n",
       "  <tbody>\n",
       "  </tbody>\n",
       "</table>\n",
       "</div>"
      ],
      "text/plain": [
       "Empty DataFrame\n",
       "Columns: [Student_ID, Name, Email, Phone, Skills, Qualification, Location_Preferences, Sector_Interests, Social_Category, Past_Internship_Participation, Preferred_Job_Type, Experience]\n",
       "Index: []"
      ]
     },
     "execution_count": 3,
     "metadata": {},
     "output_type": "execute_result"
    }
   ],
   "source": [
    "# Student / User DataFrame Schema\n",
    "student_schema = {\n",
    "    'Student_ID': str,\n",
    "    'Name': str,\n",
    "    'Email': str,\n",
    "    'Phone': str,\n",
    "    'Skills': object,                # List of skills\n",
    "    'Qualification': str,\n",
    "    'Location_Preferences': object,  # List of cities/states\n",
    "    'Sector_Interests': object,      # List of sectors\n",
    "    'Social_Category': str,          # For affirmative action\n",
    "    'Past_Internship_Participation': bool,\n",
    "    'Preferred_Job_Type': str,\n",
    "    'Experience': float\n",
    "}\n",
    "\n",
    "students_df = pd.DataFrame({col: pd.Series(dtype=dt) for col, dt in student_schema.items()})\n",
    "students_df.head()"
   ]
  },
  {
   "cell_type": "code",
   "execution_count": 12,
   "id": "35e99044",
   "metadata": {},
   "outputs": [
    {
     "name": "stdout",
     "output_type": "stream",
     "text": [
      "(0, 12)\n"
     ]
    }
   ],
   "source": [
    "print(students_df.shape)"
   ]
  },
  {
   "cell_type": "code",
   "execution_count": 5,
   "id": "7ab927a3",
   "metadata": {},
   "outputs": [],
   "source": [
    "df1 = pd.read_csv('datasets/Jobs1.csv')\n",
    "df2 = pd.read_csv('datasets/Jobs1.csv')\n",
    "df3 = pd.read_csv('datasets/Jobs1.csv')"
   ]
  },
  {
   "cell_type": "code",
   "execution_count": 6,
   "id": "59be4fdd",
   "metadata": {},
   "outputs": [
    {
     "data": {
      "text/plain": [
       "Index(['Company_Name', 'JobTitles', 'Skills', 'Description', 'Stipend',\n",
       "       'Links'],\n",
       "      dtype='object')"
      ]
     },
     "execution_count": 6,
     "metadata": {},
     "output_type": "execute_result"
    }
   ],
   "source": [
    "df1.columns\n"
   ]
  },
  {
   "cell_type": "code",
   "execution_count": 7,
   "id": "60df247b",
   "metadata": {},
   "outputs": [
    {
     "data": {
      "text/plain": [
       "Index(['Company_Name', 'JobTitles', 'Skills', 'Description', 'Stipend',\n",
       "       'Links'],\n",
       "      dtype='object')"
      ]
     },
     "execution_count": 7,
     "metadata": {},
     "output_type": "execute_result"
    }
   ],
   "source": [
    "df2.columns"
   ]
  },
  {
   "cell_type": "code",
   "execution_count": 8,
   "id": "a8a3e985",
   "metadata": {},
   "outputs": [
    {
     "data": {
      "text/plain": [
       "Index(['Company_Name', 'JobTitles', 'Skills', 'Description', 'Stipend',\n",
       "       'Links'],\n",
       "      dtype='object')"
      ]
     },
     "execution_count": 8,
     "metadata": {},
     "output_type": "execute_result"
    }
   ],
   "source": [
    "df3.columns"
   ]
  },
  {
   "cell_type": "code",
   "execution_count": 9,
   "id": "beb2f0db",
   "metadata": {},
   "outputs": [
    {
     "name": "stdout",
     "output_type": "stream",
     "text": [
      "Final dataset shape: (12722, 21)\n"
     ]
    },
    {
     "data": {
      "text/html": [
       "<div>\n",
       "<style scoped>\n",
       "    .dataframe tbody tr th:only-of-type {\n",
       "        vertical-align: middle;\n",
       "    }\n",
       "\n",
       "    .dataframe tbody tr th {\n",
       "        vertical-align: top;\n",
       "    }\n",
       "\n",
       "    .dataframe thead th {\n",
       "        text-align: right;\n",
       "    }\n",
       "</style>\n",
       "<table border=\"1\" class=\"dataframe\">\n",
       "  <thead>\n",
       "    <tr style=\"text-align: right;\">\n",
       "      <th></th>\n",
       "      <th>Job_ID</th>\n",
       "      <th>Job_Title</th>\n",
       "      <th>Job_Type</th>\n",
       "      <th>Company_Name</th>\n",
       "      <th>Sector</th>\n",
       "      <th>Posted_Date</th>\n",
       "      <th>Location</th>\n",
       "      <th>Cities</th>\n",
       "      <th>States</th>\n",
       "      <th>Skills_Required</th>\n",
       "      <th>...</th>\n",
       "      <th>Experience_Required</th>\n",
       "      <th>Stipend</th>\n",
       "      <th>Duration</th>\n",
       "      <th>Number_of_Openings</th>\n",
       "      <th>Actively_Hiring</th>\n",
       "      <th>Description</th>\n",
       "      <th>Links</th>\n",
       "      <th>Diversity_Preferences</th>\n",
       "      <th>Past_Participation</th>\n",
       "      <th>Tags</th>\n",
       "    </tr>\n",
       "  </thead>\n",
       "  <tbody>\n",
       "    <tr>\n",
       "      <th>0</th>\n",
       "      <td>None</td>\n",
       "      <td>WordPress Development Intern</td>\n",
       "      <td>None</td>\n",
       "      <td>Bauer Bodoni</td>\n",
       "      <td>None</td>\n",
       "      <td>None</td>\n",
       "      <td>None</td>\n",
       "      <td>None</td>\n",
       "      <td>None</td>\n",
       "      <td>WordPress</td>\n",
       "      <td>...</td>\n",
       "      <td>None</td>\n",
       "      <td>₹ 15,000-20,000 /month</td>\n",
       "      <td>None</td>\n",
       "      <td>None</td>\n",
       "      <td>None</td>\n",
       "      <td>Are you a WordPress whiz looking to gain hands...</td>\n",
       "      <td>https://internshala.com/internship/detail/word...</td>\n",
       "      <td>None</td>\n",
       "      <td>None</td>\n",
       "      <td>None</td>\n",
       "    </tr>\n",
       "    <tr>\n",
       "      <th>1</th>\n",
       "      <td>None</td>\n",
       "      <td>WordPress Development Intern</td>\n",
       "      <td>None</td>\n",
       "      <td>Bauer Bodoni</td>\n",
       "      <td>None</td>\n",
       "      <td>None</td>\n",
       "      <td>None</td>\n",
       "      <td>None</td>\n",
       "      <td>None</td>\n",
       "      <td>MS-PowerPoint , WordPress</td>\n",
       "      <td>...</td>\n",
       "      <td>None</td>\n",
       "      <td>₹ 15,000-20,000 /month</td>\n",
       "      <td>None</td>\n",
       "      <td>None</td>\n",
       "      <td>None</td>\n",
       "      <td>As a WordPress Development intern at Bauer Bod...</td>\n",
       "      <td>https://internshala.com/internship/detail/word...</td>\n",
       "      <td>None</td>\n",
       "      <td>None</td>\n",
       "      <td>None</td>\n",
       "    </tr>\n",
       "    <tr>\n",
       "      <th>2</th>\n",
       "      <td>None</td>\n",
       "      <td>ERPNext And HRMS Admin Intern</td>\n",
       "      <td>None</td>\n",
       "      <td>ESSI Integrated Technologies</td>\n",
       "      <td>None</td>\n",
       "      <td>None</td>\n",
       "      <td>None</td>\n",
       "      <td>None</td>\n",
       "      <td>None</td>\n",
       "      <td>Accounting , Enterprise Resource Planning(ERP)...</td>\n",
       "      <td>...</td>\n",
       "      <td>None</td>\n",
       "      <td>₹ 10,000 /month</td>\n",
       "      <td>None</td>\n",
       "      <td>None</td>\n",
       "      <td>None</td>\n",
       "      <td>Selected intern's day-to-day responsibilities ...</td>\n",
       "      <td>https://internshala.com/internship/detail/erpn...</td>\n",
       "      <td>None</td>\n",
       "      <td>None</td>\n",
       "      <td>None</td>\n",
       "    </tr>\n",
       "    <tr>\n",
       "      <th>3</th>\n",
       "      <td>None</td>\n",
       "      <td>Website Operation Intern</td>\n",
       "      <td>None</td>\n",
       "      <td>Growify Digital</td>\n",
       "      <td>None</td>\n",
       "      <td>None</td>\n",
       "      <td>None</td>\n",
       "      <td>None</td>\n",
       "      <td>None</td>\n",
       "      <td>JavaScript , WordPress</td>\n",
       "      <td>...</td>\n",
       "      <td>None</td>\n",
       "      <td>₹ 10,000-15,000 /month</td>\n",
       "      <td>None</td>\n",
       "      <td>None</td>\n",
       "      <td>None</td>\n",
       "      <td>Selected intern's day-to-day responsibilities ...</td>\n",
       "      <td>https://internshala.com/internship/detail/webs...</td>\n",
       "      <td>None</td>\n",
       "      <td>None</td>\n",
       "      <td>None</td>\n",
       "    </tr>\n",
       "    <tr>\n",
       "      <th>4</th>\n",
       "      <td>None</td>\n",
       "      <td>Influencer Marketing Data Analytics Intern</td>\n",
       "      <td>None</td>\n",
       "      <td>Confluencr</td>\n",
       "      <td>None</td>\n",
       "      <td>None</td>\n",
       "      <td>None</td>\n",
       "      <td>None</td>\n",
       "      <td>None</td>\n",
       "      <td>Digital Advertising , English Proficiency (Spo...</td>\n",
       "      <td>...</td>\n",
       "      <td>None</td>\n",
       "      <td>₹ 20,000 /month</td>\n",
       "      <td>None</td>\n",
       "      <td>None</td>\n",
       "      <td>None</td>\n",
       "      <td>Selected intern's day-to-day responsibilities ...</td>\n",
       "      <td>https://internshala.com/internship/detail/infl...</td>\n",
       "      <td>None</td>\n",
       "      <td>None</td>\n",
       "      <td>None</td>\n",
       "    </tr>\n",
       "  </tbody>\n",
       "</table>\n",
       "<p>5 rows × 21 columns</p>\n",
       "</div>"
      ],
      "text/plain": [
       "  Job_ID                                   Job_Title Job_Type  \\\n",
       "0   None                WordPress Development Intern     None   \n",
       "1   None                WordPress Development Intern     None   \n",
       "2   None               ERPNext And HRMS Admin Intern     None   \n",
       "3   None                    Website Operation Intern     None   \n",
       "4   None  Influencer Marketing Data Analytics Intern     None   \n",
       "\n",
       "                   Company_Name Sector Posted_Date Location Cities States  \\\n",
       "0                  Bauer Bodoni   None        None     None   None   None   \n",
       "1                  Bauer Bodoni   None        None     None   None   None   \n",
       "2  ESSI Integrated Technologies   None        None     None   None   None   \n",
       "3               Growify Digital   None        None     None   None   None   \n",
       "4                    Confluencr   None        None     None   None   None   \n",
       "\n",
       "                                     Skills_Required  ... Experience_Required  \\\n",
       "0                                          WordPress  ...                None   \n",
       "1                          MS-PowerPoint , WordPress  ...                None   \n",
       "2  Accounting , Enterprise Resource Planning(ERP)...  ...                None   \n",
       "3                             JavaScript , WordPress  ...                None   \n",
       "4  Digital Advertising , English Proficiency (Spo...  ...                None   \n",
       "\n",
       "                  Stipend Duration Number_of_Openings Actively_Hiring  \\\n",
       "0  ₹ 15,000-20,000 /month     None               None            None   \n",
       "1  ₹ 15,000-20,000 /month     None               None            None   \n",
       "2         ₹ 10,000 /month     None               None            None   \n",
       "3  ₹ 10,000-15,000 /month     None               None            None   \n",
       "4         ₹ 20,000 /month     None               None            None   \n",
       "\n",
       "                                         Description  \\\n",
       "0  Are you a WordPress whiz looking to gain hands...   \n",
       "1  As a WordPress Development intern at Bauer Bod...   \n",
       "2  Selected intern's day-to-day responsibilities ...   \n",
       "3  Selected intern's day-to-day responsibilities ...   \n",
       "4  Selected intern's day-to-day responsibilities ...   \n",
       "\n",
       "                                               Links Diversity_Preferences  \\\n",
       "0  https://internshala.com/internship/detail/word...                  None   \n",
       "1  https://internshala.com/internship/detail/word...                  None   \n",
       "2  https://internshala.com/internship/detail/erpn...                  None   \n",
       "3  https://internshala.com/internship/detail/webs...                  None   \n",
       "4  https://internshala.com/internship/detail/infl...                  None   \n",
       "\n",
       "  Past_Participation  Tags  \n",
       "0               None  None  \n",
       "1               None  None  \n",
       "2               None  None  \n",
       "3               None  None  \n",
       "4               None  None  \n",
       "\n",
       "[5 rows x 21 columns]"
      ]
     },
     "execution_count": 9,
     "metadata": {},
     "output_type": "execute_result"
    }
   ],
   "source": [
    "# import pandas as pd\n",
    "\n",
    "# Tumhara master schema\n",
    "schema_cols = [\n",
    "    'Job_ID', 'Job_Title', 'Job_Type', 'Company_Name', 'Sector',\n",
    "    'Posted_Date', 'Location', 'Cities', 'States', 'Skills_Required',\n",
    "    'Qualification_Required', 'Experience_Required', 'Stipend', 'Duration',\n",
    "    'Number_of_Openings', 'Actively_Hiring', 'Description', 'Links',\n",
    "    'Diversity_Preferences', 'Past_Participation', 'Tags'\n",
    "]\n",
    "\n",
    "# Column mapping (dataset -> schema)\n",
    "mapping = {\n",
    "    'JobTitles': 'Job_Title',\n",
    "    'Skills': 'Skills_Required',\n",
    "    'Company_Name': 'Company_Name',\n",
    "    'Description': 'Description',\n",
    "    'Stipend': 'Stipend',\n",
    "    'Links': 'Links'\n",
    "}\n",
    "\n",
    "def normalize_dataset(file_path, mapping, schema_cols):\n",
    "    # Load dataset\n",
    "    df = pd.read_csv(file_path)\n",
    "    \n",
    "    # Rename mapped columns\n",
    "    df = df.rename(columns=mapping)\n",
    "    \n",
    "    # Add missing columns with None\n",
    "    for col in schema_cols:\n",
    "        if col not in df.columns:\n",
    "            df[col] = None\n",
    "    \n",
    "    # Reorder according to schema\n",
    "    df = df[schema_cols]\n",
    "    \n",
    "    return df\n",
    "\n",
    "# Example usage with your datasets\n",
    "df1 = normalize_dataset(\"datasets/Jobs1.csv\", mapping, schema_cols)\n",
    "df2 = normalize_dataset(\"datasets/jobs2.csv\", mapping, schema_cols)\n",
    "df3 = normalize_dataset(\"datasets/Jobs3.csv\", mapping, schema_cols)\n",
    "\n",
    "# Merge into one master dataframe\n",
    "final_df = pd.concat([df1, df2, df3], ignore_index=True)\n",
    "\n",
    "# Save clean dataset\n",
    "final_df.to_csv(\"clean_internships.csv\", index=False)\n",
    "\n",
    "print(\"Final dataset shape:\", final_df.shape)\n",
    "final_df.head()\n"
   ]
  },
  {
   "cell_type": "code",
   "execution_count": 10,
   "id": "e73cb168",
   "metadata": {},
   "outputs": [
    {
     "ename": "NameError",
     "evalue": "name 'data_' is not defined",
     "output_type": "error",
     "traceback": [
      "\u001b[31m---------------------------------------------------------------------------\u001b[39m",
      "\u001b[31mNameError\u001b[39m                                 Traceback (most recent call last)",
      "\u001b[36mCell\u001b[39m\u001b[36m \u001b[39m\u001b[32mIn[10]\u001b[39m\u001b[32m, line 1\u001b[39m\n\u001b[32m----> \u001b[39m\u001b[32m1\u001b[39m \u001b[43mdata_\u001b[49m\n",
      "\u001b[31mNameError\u001b[39m: name 'data_' is not defined"
     ]
    }
   ],
   "source": [
    "data_"
   ]
  },
  {
   "cell_type": "code",
   "execution_count": null,
   "id": "79c2b7e8",
   "metadata": {},
   "outputs": [
    {
     "name": "stdout",
     "output_type": "stream",
     "text": [
      "0    https://internshala.com/internship/detail/word...\n",
      "1    https://internshala.com/internship/detail/word...\n",
      "2    https://internshala.com/internship/detail/erpn...\n",
      "3    https://internshala.com/internship/detail/webs...\n",
      "4    https://internshala.com/internship/detail/infl...\n",
      "Name: Links, dtype: object\n"
     ]
    }
   ],
   "source": [
    "print(final_df['Links'].head())"
   ]
  },
  {
   "cell_type": "code",
   "execution_count": null,
   "id": "3b68bcbf",
   "metadata": {},
   "outputs": [
    {
     "data": {
      "text/plain": [
       "0    https://internshala.com/internship/detail/word...\n",
       "1    https://internshala.com/internship/detail/word...\n",
       "2    https://internshala.com/internship/detail/erpn...\n",
       "3    https://internshala.com/internship/detail/webs...\n",
       "4    https://internshala.com/internship/detail/infl...\n",
       "Name: Links, dtype: object"
      ]
     },
     "execution_count": 28,
     "metadata": {},
     "output_type": "execute_result"
    }
   ],
   "source": [
    "df1['Links'].head()"
   ]
  }
 ],
 "metadata": {
  "kernelspec": {
   "display_name": "venv",
   "language": "python",
   "name": "python3"
  },
  "language_info": {
   "codemirror_mode": {
    "name": "ipython",
    "version": 3
   },
   "file_extension": ".py",
   "mimetype": "text/x-python",
   "name": "python",
   "nbconvert_exporter": "python",
   "pygments_lexer": "ipython3",
   "version": "3.13.7"
  }
 },
 "nbformat": 4,
 "nbformat_minor": 5
}
